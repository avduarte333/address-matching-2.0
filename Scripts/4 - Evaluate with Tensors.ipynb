{
 "cells": [
  {
   "cell_type": "code",
   "execution_count": null,
   "metadata": {},
   "outputs": [],
   "source": [
    "import torch\n",
    "import pandas as pd\n",
    "from tqdm import tqdm"
   ]
  },
  {
   "attachments": {},
   "cell_type": "markdown",
   "metadata": {},
   "source": [
    "<p>We define two PyTorch <code>Dataset</code> classes for loading data in a normalized and unnormalized format. Each of these classes inherits from the base <code>torch.utils.data.Dataset</code> class and overrides its <code>__init__</code>, <code>__len__</code>, and <code>__getitem__</code> methods.</p>\n",
    "\n",
    "<h5><code>NormalizedDataset</code> Class</h5>\n",
    "\n",
    "<p>The <code>NormalizedDataset</code> class takes a pandas DataFrame <code>data</code> as input in its constructor and initializes a <code>self.data</code> attribute with it. The <code>__len__</code> method simply returns the length of this data. The <code>__getitem__</code> method retrieves the normalized full address (<code>morada_normalized</code>), artery ID (<code>arteria</code>), and door ID (<code>porta</code>) for the index <code>idx</code> in the input data.</p>\n",
    "\n",
    "<h5><code>UnNormalizedDataset</code> Class</h5>\n",
    "\n",
    "<p>The <code>UnNormalizedDataset</code> class takes a pandas DataFrame <code>data</code> as input in its constructor and initializes a <code>self.data</code> attribute with it. The <code>__len__</code> method simply returns the length of this data. The <code>__getitem__</code> method retrieves the unnormalized full address (<code>morada_unormalized</code>) for the index <code>idx</code> in the input data.</p>"
   ]
  },
  {
   "cell_type": "code",
   "execution_count": null,
   "metadata": {},
   "outputs": [],
   "source": [
    "class NormalizedDataset(torch.utils.data.Dataset):\n",
    "    def __init__(self, data):\n",
    "        self.data = data\n",
    "\n",
    "    def __len__(self):\n",
    "        return len(self.data)\n",
    "\n",
    "    def __getitem__(self, idx):\n",
    "        morada_normalized = self.data.iloc[idx]['Morada_Full_Normalizada']\n",
    "        arteria = self.data.iloc[idx]['ID_ARTERIA']\n",
    "        porta = self.data.iloc[idx]['ID_PORTA']\n",
    "        return {'morada': morada_normalized, 'arteria': arteria, 'porta': porta}\n",
    "\n",
    "\n",
    "class UnNormalizedDataset(torch.utils.data.Dataset):\n",
    "    def __init__(self, data):\n",
    "        self.data = data\n",
    "\n",
    "    def __len__(self):\n",
    "        return len(self.data)\n",
    "\n",
    "    def __getitem__(self, idx):\n",
    "        morada_unormalized = self.data.iloc[idx]['Morada_Full']\n",
    "        return morada_unormalized"
   ]
  },
  {
   "attachments": {},
   "cell_type": "markdown",
   "metadata": {},
   "source": [
    "Load the csv's for the normalized dataset and the test dataset and load them in the Dataset class we created for each one. <br>\n",
    "Load the tensors that represent the data. (created in the ``3 - DB and Test Data to Tensor.ipynb`` script)."
   ]
  },
  {
   "cell_type": "code",
   "execution_count": null,
   "metadata": {},
   "outputs": [],
   "source": [
    "database_raw = pd.read_csv('~/data/normalized_database.csv')\n",
    "database_raw = NormalizedDataset(database_raw)\n",
    "\n",
    "\n",
    "# Test Data\n",
    "test_raw = pd.read_csv('~/data/test_data.csv')\n",
    "test_raw_dataset = UnNormalizedDataset(test_raw)\n",
    "\n",
    "# Tensors\n",
    "test_data_tensor = torch.load('~/test_data_embeddings.pt')\n",
    "database_tensor = torch.load('~/normalized_data_embeddings.pt')"
   ]
  },
  {
   "attachments": {},
   "cell_type": "markdown",
   "metadata": {},
   "source": [
    "Using batch sizes as big as possible we calculate the cosine similarity of each address with all other addresses in the database<br>\n",
    "For each one we then retrieve the highest similarity pair and in the end we write them in the results file, together witht the score given by the bi-encoder."
   ]
  },
  {
   "cell_type": "code",
   "execution_count": null,
   "metadata": {},
   "outputs": [],
   "source": [
    "batch_size = 512\n",
    "\n",
    "morada_normalizada_descoberta_bi = []\n",
    "arteria_descoberta_bi = []\n",
    "porta_descoberta_bi = []\n",
    "scores_bi = []\n",
    "\n",
    "for i in tqdm(range(0, test_data_tensor.shape[0], batch_size)):\n",
    "    test_data_batch = test_data_tensor[i:i+batch_size,:]\n",
    "    dot_product = torch.matmul(test_data_batch, database_tensor.transpose(1,0))\n",
    "    norm1 = torch.norm(test_data_batch, dim=1, keepdim=True)\n",
    "    norm2 = torch.norm(database_tensor, dim=1, keepdim=True)\n",
    "    cosine_similarity_batch = dot_product / (norm1 * norm2.transpose(1,0))\n",
    "\n",
    "    values, indices = cosine_similarity_batch.max(dim=1)\n",
    "    values = values.cpu().numpy()\n",
    "\n",
    "    # Get the top-1 most similar normalized address for each unnormalized one; its artery and door codes; and the score given by the bi-encoder \n",
    "    for j in range(indices.size(dim=0)):\n",
    "        morada_normalizada_descoberta_bi.append(database_raw[indices[j].item()]['morada'])\n",
    "        arteria_descoberta_bi.append(database_raw[indices[j].item()]['arteria'])\n",
    "        porta_descoberta_bi.append(database_raw[indices[j].item()]['porta'])\n",
    "        scores_bi.append(values[j])\n",
    "\n",
    "\n",
    "pd.options.mode.chained_assignment = None\n",
    "\n",
    "\n",
    "# Append the New Columns to the Original Test Data csv file.\n",
    "test_raw['Morada Descoberta BI'] = morada_normalizada_descoberta_bi\n",
    "test_raw['Arteria Descoberta BI'] = arteria_descoberta_bi\n",
    "test_raw['Porta Descoberta BI'] = porta_descoberta_bi\n",
    "test_raw['Match Confidence BI'] = scores_bi\n",
    "\n",
    "test_raw.to_csv('test_data_results.csv',encoding = 'utf-8', index = False)"
   ]
  }
 ],
 "metadata": {
  "kernelspec": {
   "display_name": "lightning_test",
   "language": "python",
   "name": "python3"
  },
  "language_info": {
   "codemirror_mode": {
    "name": "ipython",
    "version": 3
   },
   "file_extension": ".py",
   "mimetype": "text/x-python",
   "name": "python",
   "nbconvert_exporter": "python",
   "pygments_lexer": "ipython3",
   "version": "3.10.8"
  },
  "orig_nbformat": 4,
  "vscode": {
   "interpreter": {
    "hash": "aac6930534f871d314aca2610c2357ec063ba4065ca1d2a97333736987f270c6"
   }
  }
 },
 "nbformat": 4,
 "nbformat_minor": 2
}
